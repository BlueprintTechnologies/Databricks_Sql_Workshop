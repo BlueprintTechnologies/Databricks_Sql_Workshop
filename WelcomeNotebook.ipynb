{
 "cells": [
  {
   "attachments": {},
   "cell_type": "markdown",
   "metadata": {},
   "source": [
    "<p align=\"right\">\n",
    "    <img src='https://raw.githubusercontent.com/BlueprintTechnologies/Databricks_Sql_Workshop/main/img_artifacts/header.png'  />\n",
    "</p>\n",
    "\n",
    "\n",
    "# Welcome to the Blueprint Databricks SQL Workshop\n",
    "\n"
   ]
  },
  {
   "attachments": {},
   "cell_type": "markdown",
   "metadata": {},
   "source": [
    "\n",
    "### GOALS:\n",
    "\n",
    "* Lakehouse Overview\n",
    "* Introduction to Databricks SQL Data Warehouse\n",
    "* Showcase SQL features using common datasets\n",
    "\n"
   ]
  },
  {
   "attachments": {},
   "cell_type": "markdown",
   "metadata": {},
   "source": [
    "### 1 Lakehouse Architecture & Familiarity with the Web UI (15 Minutes)\n",
    "\n",
    "\n",
    "* Reference Architecture (here)\n",
    "* Blueprint's Focus on Cost Transparency | Lakehouse Monitor (here)\n",
    "* Explore the SQL Workspace UI\n",
    "* View the Data Explorer UI"
   ]
  },
  {
   "attachments": {},
   "cell_type": "markdown",
   "metadata": {},
   "source": [
    "### 2 SQL Data Warehouse Clustering (15 Minutes)\n",
    "* Clusters: Create & Understand the role of sizing. \n",
    "* Discuss the new Serverless option for Cluster.\n",
    "* Permissions & Access"
   ]
  },
  {
   "attachments": {},
   "cell_type": "markdown",
   "metadata": {},
   "source": [
    "### 3 Hands-on Lab. (90 Minutes)\n",
    "* [Blueprints Databricks SQL Workshop Workspace](https://adb-xxx.8.azuredatabricks.net/login.html)\n",
    "* User names & passwords (provided at the workshop)\n",
    "\n",
    "\n",
    "* Datasets:\n",
    "    * Databricks Catalog:   [workshop]\n",
    "    * Databricks Database:  [data]\n",
    "    \n",
    "    * Tables\n",
    "        * <b>NYC Yellow Taxi from NYC Open Data</b> \n",
    "            * Raw/Bronze:   (yellow taxi trips since 2014-2022 + pickup/dropoff location lat/long, XXm rows)\n",
    "            \n",
    "            * Clean/Silver: [analysis ready]\n",
    "            \n",
    "            \n",
    "        * <b>Bureau of Transportation On-Time Flight Performance</b>\n",
    "            * Raw/Bronze:   (flight data since 1996-present, 79M rows)\n",
    "            \n",
    "            * Clean/Silver: (analysis ready)\n",
    "\n",
    "        * <b>Iowa State Liquor Sales Data</b>\n",
    "            * Raw/Bronze:   (All liquor sales, 2012-present, 25M rows)"
   ]
  },
  {
   "cell_type": "code",
   "execution_count": null,
   "metadata": {},
   "outputs": [],
   "source": []
  }
 ],
 "metadata": {
  "kernelspec": {
   "display_name": "Python 3",
   "language": "python",
   "name": "python3"
  },
  "language_info": {
   "codemirror_mode": {
    "name": "ipython",
    "version": 3
   },
   "file_extension": ".py",
   "mimetype": "text/x-python",
   "name": "python",
   "nbconvert_exporter": "python",
   "pygments_lexer": "ipython3",
   "version": "3.11.1"
  },
  "orig_nbformat": 4,
  "vscode": {
   "interpreter": {
    "hash": "1d1452638b5a8fdff1b8be491420b992c86649fc2b03c961dfe1dde26bc43068"
   }
  }
 },
 "nbformat": 4,
 "nbformat_minor": 2
}
