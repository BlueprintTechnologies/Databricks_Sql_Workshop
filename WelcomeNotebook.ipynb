{
 "cells": [
  {
   "attachments": {},
   "cell_type": "markdown",
   "metadata": {},
   "source": [
    "<img src='https://raw.githubusercontent.com/BlueprintTechnologies/Databricks_Sql_Workshop/main/img_artifacts/Blueprint-Logo-Primary-Blue.png' width=\"300\"  />\n",
    "\n",
    "# Welcome to the Blueprint Databricks SQL Workshop\n"
   ]
  },
  {
   "attachments": {},
   "cell_type": "markdown",
   "metadata": {},
   "source": [
    "\n",
    "### GOALS:\n",
    "\n",
    "* Lakehouse Overview\n",
    "* Introduction to Databricks SQL Data Warehouse\n",
    "* Showcase SQL features using common datasets\n",
    "\n"
   ]
  },
  {
   "attachments": {},
   "cell_type": "markdown",
   "metadata": {},
   "source": [
    "### 1 Lakehouse Architecture & Familiarity with the Web UI (15 Minutes)\n",
    "\n",
    "\n",
    "* Reference Architecture (here)\n",
    "* Blueprint's Focus on Cost Transparency | Lakehouse Monitor (here)\n",
    "* Explore the SQL Workspace UI\n",
    "* View the Data Explorer UI"
   ]
  },
  {
   "attachments": {},
   "cell_type": "markdown",
   "metadata": {},
   "source": [
    "### 2 SQL Data Warehouse Clustering (15 Minutes)\n",
    "* Clusters: Create & Understand the role of sizing. \n",
    "* Discuss the new Serverless option for Cluster.\n",
    "* Permissions & Access"
   ]
  },
  {
   "attachments": {},
   "cell_type": "markdown",
   "metadata": {},
   "source": [
    "### 3 Hands-on Lab. (90 Minutes)\n",
    "* [Blueprints Databricks SQL Workshop Workspace](https://adb-4148418229263648.8.azuredatabricks.net/login.html)\n",
    "* User names & passwords (provided at the workshop)"
   ]
  },
  {
   "cell_type": "code",
   "execution_count": null,
   "metadata": {},
   "outputs": [],
   "source": []
  }
 ],
 "metadata": {
  "kernelspec": {
   "display_name": "Python 3",
   "language": "python",
   "name": "python3"
  },
  "language_info": {
   "codemirror_mode": {
    "name": "ipython",
    "version": 3
   },
   "file_extension": ".py",
   "mimetype": "text/x-python",
   "name": "python",
   "nbconvert_exporter": "python",
   "pygments_lexer": "ipython3",
   "version": "3.10.4"
  },
  "orig_nbformat": 4,
  "vscode": {
   "interpreter": {
    "hash": "aee8b7b246df8f9039afb4144a1f6fd8d2ca17a180786b69acc140d282b71a49"
   }
  }
 },
 "nbformat": 4,
 "nbformat_minor": 2
}
