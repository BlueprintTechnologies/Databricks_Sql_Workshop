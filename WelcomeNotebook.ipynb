{
 "cells": [
  {
   "attachments": {},
   "cell_type": "markdown",
   "metadata": {},
   "source": [
    "<img src='https://raw.githubusercontent.com/BlueprintTechnologies/Databricks_Sql_Workshop/main/img_artifacts/Blueprint-Logo-Primary-Blue.png'/img >\n",
    "# Welcome to the Blueprint|Databricks SQL Workshop"
   ]
  },
  {
   "cell_type": "markdown",
   "metadata": {},
   "source": []
  },
  {
   "cell_type": "code",
   "execution_count": null,
   "metadata": {
    "vscode": {
     "languageId": "sql"
    }
   },
   "outputs": [],
   "source": [
    "-- NY Taxi Analysis\n",
    "-- What's the relationship between fare and ride_time exluding outliers when the PU location is Manhattan v. Queens in 2018?\n",
    "\n",
    "with \n",
    "manhattan as (\n",
    "SELECT\n",
    "  trip_time_MinFrac,\n",
    "  total_amount as total_amt_minus_tip,\n",
    "  puBorough\n",
    "FROM\n",
    "  (SELECT * FROM nyc_yellow_taxi_trips_cleaned_matvw \n",
    "   WHERE \n",
    "    trip_time_MinFrac BETWEEN 0 AND 100\n",
    "    AND total_amount BETWEEN 0 AND 100\n",
    "    AND puBorough = 'Manhattan'\n",
    "    AND puYear = 2018\n",
    "   ORDER BY RAND() LIMIT 1000) sub_query\n",
    "   ),\n",
    "\n",
    "queens as (\n",
    "SELECT\n",
    "  trip_time_MinFrac,\n",
    "  total_amount as total_amt_minus_tip,\n",
    "  puBorough\n",
    "FROM\n",
    "  (SELECT * FROM nyc_yellow_taxi_trips_cleaned_matvw \n",
    "   WHERE \n",
    "    trip_time_MinFrac BETWEEN 0 AND 100\n",
    "    AND total_amount BETWEEN 0 AND 100\n",
    "    AND puBorough = 'Queens'\n",
    "    AND puYear = 2018\n",
    "   ORDER BY RAND() LIMIT 1000) sub_query\n",
    "   )\n",
    "   \n",
    "select * from manhattan\n",
    "union\n",
    "select * from queens\n",
    "\n"
   ]
  }
 ],
 "metadata": {
  "kernelspec": {
   "display_name": "Python 3",
   "language": "python",
   "name": "python3"
  },
  "language_info": {
   "name": "python",
   "version": "3.11.1 (tags/v3.11.1:a7a450f, Dec  6 2022, 19:58:39) [MSC v.1934 64 bit (AMD64)]"
  },
  "orig_nbformat": 4,
  "vscode": {
   "interpreter": {
    "hash": "1d1452638b5a8fdff1b8be491420b992c86649fc2b03c961dfe1dde26bc43068"
   }
  }
 },
 "nbformat": 4,
 "nbformat_minor": 2
}
