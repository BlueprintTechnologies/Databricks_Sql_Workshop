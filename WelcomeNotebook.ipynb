{
 "cells": [
  {
   "attachments": {},
   "cell_type": "markdown",
   "metadata": {},
   "source": [
    "<img src='https://raw.githubusercontent.com/BlueprintTechnologies/Databricks_Sql_Workshop/main/img_artifacts/Blueprint-Logo-Primary-Blue.png' width=\"300\"  />\n",
    "\n",
    "# Welcome to the Blueprint Databricks SQL Workshop\n",
    "\n",
    "## Agenda"
   ]
  },
  {
   "attachments": {},
   "cell_type": "markdown",
   "metadata": {},
   "source": [
    "\n",
    "### GOALS:\n",
    "\n",
    "* Introduction to Databricks SQL Data Warehouse\n",
    "* Showcase several SQL features using common datasets\n",
    "\n"
   ]
  },
  {
   "attachments": {},
   "cell_type": "markdown",
   "metadata": {},
   "source": [
    "### 1 Setup & familiarity with the Web UI & Attendee Login (20 Minutes)\n",
    "\n",
    "* User accounts [Blueprint's Databricks SQL Workshop Workspace](https://adb-4148418229263648.8.azuredatabricks.net/login.html)\n",
    "* User names & passwork (provided at the workshop)\n",
    "\n",
    "### 2 Set up SQL clusters for your analyst department / business unit\n",
    "Understand serverless v. classic SQL endpoints advantages\n",
    "Sizing and costs for SQL"
   ]
  },
  {
   "attachments": {},
   "cell_type": "markdown",
   "metadata": {},
   "source": [
    "### 2"
   ]
  },
  {
   "cell_type": "code",
   "execution_count": 14,
   "metadata": {
    "vscode": {
     "languageId": "sql"
    }
   },
   "outputs": [
    {
     "ename": "SyntaxError",
     "evalue": "unterminated string literal (detected at line 2) (1930594281.py, line 2)",
     "output_type": "error",
     "traceback": [
      "\u001b[1;36m  Cell \u001b[1;32mIn[14], line 2\u001b[1;36m\u001b[0m\n\u001b[1;33m    -- What's the relationship between fare and ride_time exluding outliers when the PU location is Manhattan v. Queens in 2018?\u001b[0m\n\u001b[1;37m           ^\u001b[0m\n\u001b[1;31mSyntaxError\u001b[0m\u001b[1;31m:\u001b[0m unterminated string literal (detected at line 2)\n"
     ]
    }
   ],
   "source": []
  }
 ],
 "metadata": {
  "kernelspec": {
   "display_name": "Python 3",
   "language": "python",
   "name": "python3"
  },
  "language_info": {
   "codemirror_mode": {
    "name": "ipython",
    "version": 3
   },
   "file_extension": ".py",
   "mimetype": "text/x-python",
   "name": "python",
   "nbconvert_exporter": "python",
   "pygments_lexer": "ipython3",
   "version": "3.11.1"
  },
  "orig_nbformat": 4,
  "vscode": {
   "interpreter": {
    "hash": "1d1452638b5a8fdff1b8be491420b992c86649fc2b03c961dfe1dde26bc43068"
   }
  }
 },
 "nbformat": 4,
 "nbformat_minor": 2
}
